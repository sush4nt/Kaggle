{
 "cells": [
  {
   "cell_type": "markdown",
   "id": "ce3f574b",
   "metadata": {},
   "source": [
    "Link to the notebook: [here](https://www.kaggle.com/code/cdeotte/tensorflow-transformer-0-790)"
   ]
  },
  {
   "cell_type": "markdown",
   "id": "a1ebb21a",
   "metadata": {
    "papermill": {
     "duration": 0.005975,
     "end_time": "2022-05-31T19:43:06.656899",
     "exception": false,
     "start_time": "2022-05-31T19:43:06.650924",
     "status": "completed"
    },
    "tags": []
   },
   "source": [
    "# TensorFlow Transformer Starter - LB 0.790\n",
    "In this notebook we present starter code for a transformer model. Using a transformer requires 3D data (whereas Kaggle provides 2D data as a CSV). The shape of the data is `(number_of_customers, 13, 188)` which is `(batch size, sequence length, feature length)`. Each customer is a time series with 13 credit card statements. And each statement has 188 features. The data was created and saved to NumPy files in my previous notebook [here][1] with data discussion [here][6] and [here][7]. EDA displaying customer time series is [here][2].\n",
    "\n",
    "Keras provides tutorials on transformers [here][3] and [here][4]. This simple transformer was used in Kaggle's Ventilator Comp and achieved solo model gold medal [here][5]\n",
    "\n",
    "# TensorFlow GRU (RNN) Starter - LB 0.790\n",
    "If you want to experiment with RNN, (i.e LSTM or GRU), check out my TensorFlow GRU Starter [here][1] with discussion [here][8]. The data used in this notebook was created in my GRU starter notebook. Both RNNs and Transformers require 3D data.\n",
    "\n",
    "[1]: https://www.kaggle.com/code/cdeotte/tensorflow-gru-starter-0-790\n",
    "[2]: https://www.kaggle.com/cdeotte/time-series-eda\n",
    "[3]: https://keras.io/examples/nlp/text_classification_with_transformer/\n",
    "[4]: https://www.tensorflow.org/text/tutorials/transformer\n",
    "[5]: https://www.kaggle.com/code/cdeotte/tensorflow-transformer-0-112\n",
    "[6]: https://www.kaggle.com/competitions/amex-default-prediction/discussion/327828\n",
    "[7]: https://www.kaggle.com/competitions/amex-default-prediction/discussion/328054\n",
    "[8]: https://www.kaggle.com/competitions/amex-default-prediction/discussion/327761"
   ]
  },
  {
   "cell_type": "markdown",
   "id": "ea9b1ed6",
   "metadata": {
    "papermill": {
     "duration": 0.004149,
     "end_time": "2022-05-31T19:43:06.665817",
     "exception": false,
     "start_time": "2022-05-31T19:43:06.661668",
     "status": "completed"
    },
    "tags": []
   },
   "source": [
    "# Load Libraries"
   ]
  },
  {
   "cell_type": "code",
   "execution_count": 1,
   "id": "f4c45db6",
   "metadata": {
    "_kg_hide-input": false,
    "execution": {
     "iopub.execute_input": "2022-05-31T19:43:06.676875Z",
     "iopub.status.busy": "2022-05-31T19:43:06.676091Z",
     "iopub.status.idle": "2022-05-31T19:43:10.806908Z",
     "shell.execute_reply": "2022-05-31T19:43:10.806076Z"
    },
    "papermill": {
     "duration": 4.139132,
     "end_time": "2022-05-31T19:43:10.809312",
     "exception": false,
     "start_time": "2022-05-31T19:43:06.670180",
     "status": "completed"
    },
    "tags": []
   },
   "outputs": [],
   "source": [
    "import cupy, cudf # GPU LIBRARIES\n",
    "import numpy as np, pandas as pd # CPU LIBRARIES\n",
    "import matplotlib.pyplot as plt, gc, os\n",
    "\n",
    "PATH_TO_DATA = '../input/amex-data-for-transformers-and-rnns/data/'\n",
    "\n",
    "# IF YOU WISH TO INFER A MODEL YOU TRAINED OFFLINE\n",
    "# THEN SET TO FALSE AND PROVIDE KAGGLE DATASET URL\n",
    "TRAIN_MODEL = True\n",
    "PATH_TO_MODEL = './model/'\n",
    "\n",
    "INFER_TEST = True"
   ]
  },
  {
   "cell_type": "markdown",
   "id": "609e8bd8",
   "metadata": {
    "papermill": {
     "duration": 0.004205,
     "end_time": "2022-05-31T19:43:10.818176",
     "exception": false,
     "start_time": "2022-05-31T19:43:10.813971",
     "status": "completed"
    },
    "tags": []
   },
   "source": [
    "# Build Transformer Model"
   ]
  },
  {
   "cell_type": "code",
   "execution_count": 2,
   "id": "b7069563",
   "metadata": {
    "_kg_hide-input": true,
    "execution": {
     "iopub.execute_input": "2022-05-31T19:43:10.828602Z",
     "iopub.status.busy": "2022-05-31T19:43:10.827838Z",
     "iopub.status.idle": "2022-05-31T19:43:16.118831Z",
     "shell.execute_reply": "2022-05-31T19:43:16.117853Z"
    },
    "papermill": {
     "duration": 5.298549,
     "end_time": "2022-05-31T19:43:16.121219",
     "exception": false,
     "start_time": "2022-05-31T19:43:10.822670",
     "status": "completed"
    },
    "tags": []
   },
   "outputs": [
    {
     "name": "stdout",
     "output_type": "stream",
     "text": [
      "Using TensorFlow version 2.6.4\n"
     ]
    }
   ],
   "source": [
    "os.environ[\"TF_GPU_ALLOCATOR\"]=\"cuda_malloc_async\"  # TF will not use all memory\n",
    "import tensorflow as tf\n",
    "import tensorflow.keras.backend as K\n",
    "from tensorflow import keras\n",
    "from tensorflow.keras import layers\n",
    "\n",
    "print('Using TensorFlow version',tf.__version__)"
   ]
  },
  {
   "cell_type": "code",
   "execution_count": 3,
   "id": "300a8951",
   "metadata": {
    "execution": {
     "iopub.execute_input": "2022-05-31T19:43:16.131513Z",
     "iopub.status.busy": "2022-05-31T19:43:16.130947Z",
     "iopub.status.idle": "2022-05-31T19:43:16.139897Z",
     "shell.execute_reply": "2022-05-31T19:43:16.139205Z"
    },
    "papermill": {
     "duration": 0.015763,
     "end_time": "2022-05-31T19:43:16.141560",
     "exception": false,
     "start_time": "2022-05-31T19:43:16.125797",
     "status": "completed"
    },
    "tags": []
   },
   "outputs": [],
   "source": [
    "class TransformerBlock(layers.Layer):\n",
    "    def __init__(self, embed_dim, feat_dim, num_heads, ff_dim, rate=0.1):\n",
    "        super(TransformerBlock, self).__init__()\n",
    "        self.att = layers.MultiHeadAttention(num_heads=num_heads, key_dim=embed_dim)\n",
    "        self.ffn = keras.Sequential(\n",
    "            [layers.Dense(ff_dim, activation=\"gelu\"), layers.Dense(feat_dim),]\n",
    "        )\n",
    "        self.layernorm1 = layers.LayerNormalization(epsilon=1e-6)\n",
    "        self.layernorm2 = layers.LayerNormalization(epsilon=1e-6)\n",
    "        self.dropout1 = layers.Dropout(rate)\n",
    "        self.dropout2 = layers.Dropout(rate)\n",
    "\n",
    "    def call(self, inputs, training):\n",
    "        attn_output = self.att(inputs, inputs)\n",
    "        attn_output = self.dropout1(attn_output, training=training)\n",
    "        out1 = self.layernorm1(inputs + attn_output)\n",
    "        ffn_output = self.ffn(out1)\n",
    "        ffn_output = self.dropout2(ffn_output, training=training)\n",
    "        return self.layernorm2(out1 + ffn_output)"
   ]
  },
  {
   "cell_type": "code",
   "execution_count": 4,
   "id": "17e2e3e3",
   "metadata": {
    "execution": {
     "iopub.execute_input": "2022-05-31T19:43:16.151239Z",
     "iopub.status.busy": "2022-05-31T19:43:16.150977Z",
     "iopub.status.idle": "2022-05-31T19:43:16.160013Z",
     "shell.execute_reply": "2022-05-31T19:43:16.159195Z"
    },
    "papermill": {
     "duration": 0.015904,
     "end_time": "2022-05-31T19:43:16.161620",
     "exception": false,
     "start_time": "2022-05-31T19:43:16.145716",
     "status": "completed"
    },
    "tags": []
   },
   "outputs": [],
   "source": [
    "feat_dim = 188\n",
    "embed_dim = 64  # Embedding size for attention\n",
    "num_heads = 4  # Number of attention heads\n",
    "ff_dim = 128  # Hidden layer size in feed forward network inside transformer\n",
    "dropout_rate = 0.3\n",
    "num_blocks = 2\n",
    "\n",
    "def build_model():\n",
    "    \n",
    "    # INPUT EMBEDDING LAYER\n",
    "    inp = layers.Input(shape=(13,188))\n",
    "    embeddings = []\n",
    "    for k in range(11):\n",
    "        emb = layers.Embedding(10,4)\n",
    "        embeddings.append( emb(inp[:,:,k]) )\n",
    "    x = layers.Concatenate()([inp[:,:,11:]]+embeddings)\n",
    "    x = layers.Dense(feat_dim)(x)\n",
    "    \n",
    "    # TRANSFORMER BLOCKS\n",
    "    for k in range(num_blocks):\n",
    "        x_old = x\n",
    "        transformer_block = TransformerBlock(embed_dim, feat_dim, num_heads, ff_dim, dropout_rate)\n",
    "        x = transformer_block(x)\n",
    "        x = 0.9*x + 0.1*x_old # SKIP CONNECTION\n",
    "    \n",
    "    # CLASSIFICATION HEAD\n",
    "    x = layers.Dense(64, activation=\"relu\")(x[:,-1,:])\n",
    "    x = layers.Dense(32, activation=\"relu\")(x)\n",
    "    outputs = layers.Dense(1, activation=\"sigmoid\")(x)\n",
    "    \n",
    "    model = keras.Model(inputs=inp, outputs=outputs)\n",
    "    opt = tf.keras.optimizers.Adam(learning_rate=0.001)\n",
    "    loss = tf.keras.losses.BinaryCrossentropy()\n",
    "    model.compile(loss=loss, optimizer = opt)\n",
    "        \n",
    "    return model"
   ]
  },
  {
   "cell_type": "markdown",
   "id": "f2ad38f0",
   "metadata": {
    "papermill": {
     "duration": 0.003956,
     "end_time": "2022-05-31T19:43:16.169840",
     "exception": false,
     "start_time": "2022-05-31T19:43:16.165884",
     "status": "completed"
    },
    "tags": []
   },
   "source": [
    "# Define Learning Schedule"
   ]
  },
  {
   "cell_type": "code",
   "execution_count": 5,
   "id": "c69d0bb9",
   "metadata": {
    "execution": {
     "iopub.execute_input": "2022-05-31T19:43:16.179444Z",
     "iopub.status.busy": "2022-05-31T19:43:16.178949Z",
     "iopub.status.idle": "2022-05-31T19:43:16.395833Z",
     "shell.execute_reply": "2022-05-31T19:43:16.395074Z"
    },
    "papermill": {
     "duration": 0.22375,
     "end_time": "2022-05-31T19:43:16.397734",
     "exception": false,
     "start_time": "2022-05-31T19:43:16.173984",
     "status": "completed"
    },
    "tags": []
   },
   "outputs": [
    {
     "name": "stdout",
     "output_type": "stream",
     "text": [
      "Learning rate schedule: 0.001 to 0.001 to 1e-06\n"
     ]
    },
    {
     "data": {
      "image/png": "[encoded data removed]",
      "text/plain": [
       "<Figure size 720x288 with 1 Axes>"
      ]
     },
     "metadata": {
      "needs_background": "light"
     },
     "output_type": "display_data"
    }
   ],
   "source": [
    "import math\n",
    "LR_START = 1e-6\n",
    "LR_MAX = 1e-3\n",
    "LR_MIN = 1e-6\n",
    "LR_RAMPUP_EPOCHS = 0\n",
    "LR_SUSTAIN_EPOCHS = 0\n",
    "EPOCHS = 8\n",
    "\n",
    "def lrfn(epoch):\n",
    "    if epoch < LR_RAMPUP_EPOCHS:\n",
    "        lr = (LR_MAX - LR_START) / LR_RAMPUP_EPOCHS * epoch + LR_START\n",
    "    elif epoch < LR_RAMPUP_EPOCHS + LR_SUSTAIN_EPOCHS:\n",
    "        lr = LR_MAX\n",
    "    else:\n",
    "        decay_total_epochs = EPOCHS - LR_RAMPUP_EPOCHS - LR_SUSTAIN_EPOCHS - 1\n",
    "        decay_epoch_index = epoch - LR_RAMPUP_EPOCHS - LR_SUSTAIN_EPOCHS\n",
    "        phase = math.pi * decay_epoch_index / decay_total_epochs\n",
    "        cosine_decay = 0.5 * (1 + math.cos(phase))\n",
    "        lr = (LR_MAX - LR_MIN) * cosine_decay + LR_MIN\n",
    "    return lr\n",
    "\n",
    "rng = [i for i in range(EPOCHS)]\n",
    "lr_y = [lrfn(x) for x in rng]\n",
    "plt.figure(figsize=(10, 4))\n",
    "plt.plot(rng, lr_y, '-o')\n",
    "plt.xlabel('Epoch'); plt.ylabel('LR')\n",
    "print(\"Learning rate schedule: {:.3g} to {:.3g} to {:.3g}\". \\\n",
    "      format(lr_y[0], max(lr_y), lr_y[-1]))\n",
    "LR = tf.keras.callbacks.LearningRateScheduler(lrfn, verbose = True)"
   ]
  },
  {
   "cell_type": "markdown",
   "id": "0e6e6a18",
   "metadata": {
    "papermill": {
     "duration": 0.004784,
     "end_time": "2022-05-31T19:43:16.407295",
     "exception": false,
     "start_time": "2022-05-31T19:43:16.402511",
     "status": "completed"
    },
    "tags": []
   },
   "source": [
    "# Define Competition Metric"
   ]
  },
  {
   "cell_type": "code",
   "execution_count": 6,
   "id": "cfee3745",
   "metadata": {
    "execution": {
     "iopub.execute_input": "2022-05-31T19:43:16.418129Z",
     "iopub.status.busy": "2022-05-31T19:43:16.417837Z",
     "iopub.status.idle": "2022-05-31T19:43:16.426657Z",
     "shell.execute_reply": "2022-05-31T19:43:16.425941Z"
    },
    "papermill": {
     "duration": 0.016072,
     "end_time": "2022-05-31T19:43:16.428218",
     "exception": false,
     "start_time": "2022-05-31T19:43:16.412146",
     "status": "completed"
    },
    "tags": []
   },
   "outputs": [],
   "source": [
    "# COMPETITION METRIC FROM Konstantin Yakovlev\n",
    "# https://www.kaggle.com/kyakovlev\n",
    "# https://www.kaggle.com/competitions/amex-default-prediction/discussion/327534\n",
    "def amex_metric_mod(y_true, y_pred):\n",
    "\n",
    "    labels     = np.transpose(np.array([y_true, y_pred]))\n",
    "    labels     = labels[labels[:, 1].argsort()[::-1]]\n",
    "    weights    = np.where(labels[:,0]==0, 20, 1)\n",
    "    cut_vals   = labels[np.cumsum(weights) <= int(0.04 * np.sum(weights))]\n",
    "    top_four   = np.sum(cut_vals[:,0]) / np.sum(labels[:,0])\n",
    "\n",
    "    gini = [0,0]\n",
    "    for i in [1,0]:\n",
    "        labels         = np.transpose(np.array([y_true, y_pred]))\n",
    "        labels         = labels[labels[:, i].argsort()[::-1]]\n",
    "        weight         = np.where(labels[:,0]==0, 20, 1)\n",
    "        weight_random  = np.cumsum(weight / np.sum(weight))\n",
    "        total_pos      = np.sum(labels[:, 0] *  weight)\n",
    "        cum_pos_found  = np.cumsum(labels[:, 0] * weight)\n",
    "        lorentz        = cum_pos_found / total_pos\n",
    "        gini[i]        = np.sum((lorentz - weight_random) * weight)\n",
    "\n",
    "    return 0.5 * (gini[1]/gini[0] + top_four)"
   ]
  },
  {
   "cell_type": "markdown",
   "id": "7ed0b550",
   "metadata": {
    "papermill": {
     "duration": 0.004335,
     "end_time": "2022-05-31T19:43:16.437166",
     "exception": false,
     "start_time": "2022-05-31T19:43:16.432831",
     "status": "completed"
    },
    "tags": []
   },
   "source": [
    "# Train Model"
   ]
  },
  {
   "cell_type": "code",
   "execution_count": 7,
   "id": "3d14cc64",
   "metadata": {
    "execution": {
     "iopub.execute_input": "2022-05-31T19:43:16.447693Z",
     "iopub.status.busy": "2022-05-31T19:43:16.447254Z",
     "iopub.status.idle": "2022-05-31T20:02:54.163518Z",
     "shell.execute_reply": "2022-05-31T20:02:54.162307Z"
    },
    "papermill": {
     "duration": 1177.729491,
     "end_time": "2022-05-31T20:02:54.171178",
     "exception": false,
     "start_time": "2022-05-31T19:43:16.441687",
     "status": "completed"
    },
    "scrolled": true,
    "tags": []
   },
   "outputs": [
    {
     "name": "stdout",
     "output_type": "stream",
     "text": [
      "#########################\n",
      "### Fold 1 with valid files [1, 2]\n",
      "### Training data shapes (367131, 13, 188) (367131,)\n",
      "### Validation data shapes (91782, 13, 188) (91782,)\n",
      "#########################\n"
     ]
    },
    {
     "name": "stderr",
     "output_type": "stream",
     "text": [
      "2022-05-31 19:43:57.510601: I tensorflow/stream_executor/cuda/cuda_gpu_executor.cc:937] successful NUMA node read from SysFS had negative value (-1), but there must be at least one NUMA node, so returning NUMA node zero\n",
      "2022-05-31 19:43:57.515530: I tensorflow/stream_executor/cuda/cuda_gpu_executor.cc:937] successful NUMA node read from SysFS had negative value (-1), but there must be at least one NUMA node, so returning NUMA node zero\n",
      "2022-05-31 19:43:57.516260: I tensorflow/stream_executor/cuda/cuda_gpu_executor.cc:937] successful NUMA node read from SysFS had negative value (-1), but there must be at least one NUMA node, so returning NUMA node zero\n",
      "2022-05-31 19:43:57.517675: I tensorflow/core/platform/cpu_feature_guard.cc:142] This TensorFlow binary is optimized with oneAPI Deep Neural Network Library (oneDNN) to use the following CPU instructions in performance-critical operations:  AVX2 AVX512F FMA\n",
      "To enable them in other operations, rebuild TensorFlow with the appropriate compiler flags.\n",
      "2022-05-31 19:43:57.517966: I tensorflow/stream_executor/cuda/cuda_gpu_executor.cc:937] successful NUMA node read from SysFS had negative value (-1), but there must be at least one NUMA node, so returning NUMA node zero\n",
      "2022-05-31 19:43:57.518759: I tensorflow/stream_executor/cuda/cuda_gpu_executor.cc:937] successful NUMA node read from SysFS had negative value (-1), but there must be at least one NUMA node, so returning NUMA node zero\n",
      "2022-05-31 19:43:57.519452: I tensorflow/stream_executor/cuda/cuda_gpu_executor.cc:937] successful NUMA node read from SysFS had negative value (-1), but there must be at least one NUMA node, so returning NUMA node zero\n",
      "2022-05-31 19:44:01.649306: I tensorflow/stream_executor/cuda/cuda_gpu_executor.cc:937] successful NUMA node read from SysFS had negative value (-1), but there must be at least one NUMA node, so returning NUMA node zero\n",
      "2022-05-31 19:44:01.650153: I tensorflow/stream_executor/cuda/cuda_gpu_executor.cc:937] successful NUMA node read from SysFS had negative value (-1), but there must be at least one NUMA node, so returning NUMA node zero\n",
      "2022-05-31 19:44:01.650857: I tensorflow/stream_executor/cuda/cuda_gpu_executor.cc:937] successful NUMA node read from SysFS had negative value (-1), but there must be at least one NUMA node, so returning NUMA node zero\n",
      "2022-05-31 19:44:01.652127: E tensorflow/core/common_runtime/gpu/gpu_process_state.cc:69] TF_GPU_ALLOCATOR=cuda_malloc_async environment found, but TensorFlow was not compiled with CUDA 11.2+.\n",
      "2022-05-31 19:44:01.652184: I tensorflow/core/common_runtime/gpu/gpu_device.cc:1510] Created device /job:localhost/replica:0/task:0/device:GPU:0 with 15187 MB memory:  -> device: 0, name: Tesla P100-PCIE-16GB, pci bus id: 0000:00:04.0, compute capability: 6.0\n",
      "2022-05-31 19:44:02.507926: W tensorflow/core/framework/cpu_allocator_impl.cc:80] Allocation of 3589072656 exceeds 10% of free system memory.\n",
      "2022-05-31 19:44:06.910457: W tensorflow/core/framework/cpu_allocator_impl.cc:80] Allocation of 3589072656 exceeds 10% of free system memory.\n",
      "2022-05-31 19:44:09.594573: I tensorflow/compiler/mlir/mlir_graph_optimization_pass.cc:185] None of the MLIR Optimization Passes are enabled (registered 2)\n"
     ]
    },
    {
     "name": "stdout",
     "output_type": "stream",
     "text": [
      "Epoch 1/8\n",
      "\n",
      "Epoch 00001: LearningRateScheduler setting learning rate to 0.001.\n"
     ]
    },
    {
     "name": "stderr",
     "output_type": "stream",
     "text": [
      "2022-05-31 19:44:32.022108: W tensorflow/core/framework/cpu_allocator_impl.cc:80] Allocation of 897260832 exceeds 10% of free system memory.\n",
      "2022-05-31 19:44:32.977427: W tensorflow/core/framework/cpu_allocator_impl.cc:80] Allocation of 897260832 exceeds 10% of free system memory.\n"
     ]
    },
    {
     "name": "stdout",
     "output_type": "stream",
     "text": [
      "718/718 - 26s - loss: 0.2399 - val_loss: 0.2441\n",
      "Epoch 2/8\n",
      "\n",
      "Epoch 00002: LearningRateScheduler setting learning rate to 0.0009505339495172585.\n",
      "718/718 - 21s - loss: 0.2301 - val_loss: 0.2325\n",
      "Epoch 3/8\n",
      "\n",
      "Epoch 00003: LearningRateScheduler setting learning rate to 0.0008119331560284375.\n",
      "718/718 - 21s - loss: 0.2271 - val_loss: 0.2527\n",
      "Epoch 4/8\n",
      "\n",
      "Epoch 00004: LearningRateScheduler setting learning rate to 0.0006116492065111791.\n",
      "718/718 - 20s - loss: 0.2242 - val_loss: 0.2319\n",
      "Epoch 5/8\n",
      "\n",
      "Epoch 00005: LearningRateScheduler setting learning rate to 0.00038935079348882104.\n",
      "718/718 - 20s - loss: 0.2204 - val_loss: 0.2267\n",
      "Epoch 6/8\n",
      "\n",
      "Epoch 00006: LearningRateScheduler setting learning rate to 0.00018906684397156263.\n",
      "718/718 - 20s - loss: 0.2166 - val_loss: 0.2246\n",
      "Epoch 7/8\n",
      "\n",
      "Epoch 00007: LearningRateScheduler setting learning rate to 5.046605048274169e-05.\n",
      "718/718 - 20s - loss: 0.2136 - val_loss: 0.2248\n",
      "Epoch 8/8\n",
      "\n",
      "Epoch 00008: LearningRateScheduler setting learning rate to 1e-06.\n",
      "718/718 - 20s - loss: 0.2125 - val_loss: 0.2248\n",
      "Inferring validation data...\n"
     ]
    },
    {
     "name": "stderr",
     "output_type": "stream",
     "text": [
      "2022-05-31 19:47:34.626444: W tensorflow/core/framework/cpu_allocator_impl.cc:80] Allocation of 897260832 exceeds 10% of free system memory.\n"
     ]
    },
    {
     "name": "stdout",
     "output_type": "stream",
     "text": [
      "180/180 - 2s\n",
      "\n",
      "Fold 1 CV= 0.7866577508160894\n",
      "\n",
      "#########################\n",
      "### Fold 2 with valid files [3, 4]\n",
      "### Training data shapes (367131, 13, 188) (367131,)\n",
      "### Validation data shapes (91782, 13, 188) (91782,)\n",
      "#########################\n",
      "Epoch 1/8\n",
      "\n",
      "Epoch 00001: LearningRateScheduler setting learning rate to 0.001.\n",
      "718/718 - 26s - loss: 0.2404 - val_loss: 0.2416\n",
      "Epoch 2/8\n",
      "\n",
      "Epoch 00002: LearningRateScheduler setting learning rate to 0.0009505339495172585.\n",
      "718/718 - 20s - loss: 0.2301 - val_loss: 0.2328\n",
      "Epoch 3/8\n",
      "\n",
      "Epoch 00003: LearningRateScheduler setting learning rate to 0.0008119331560284375.\n",
      "718/718 - 20s - loss: 0.2275 - val_loss: 0.2335\n",
      "Epoch 4/8\n",
      "\n",
      "Epoch 00004: LearningRateScheduler setting learning rate to 0.0006116492065111791.\n",
      "718/718 - 21s - loss: 0.2241 - val_loss: 0.2285\n",
      "Epoch 5/8\n",
      "\n",
      "Epoch 00005: LearningRateScheduler setting learning rate to 0.00038935079348882104.\n",
      "718/718 - 20s - loss: 0.2204 - val_loss: 0.2273\n",
      "Epoch 6/8\n",
      "\n",
      "Epoch 00006: LearningRateScheduler setting learning rate to 0.00018906684397156263.\n",
      "718/718 - 20s - loss: 0.2168 - val_loss: 0.2246\n",
      "Epoch 7/8\n",
      "\n",
      "Epoch 00007: LearningRateScheduler setting learning rate to 5.046605048274169e-05.\n",
      "718/718 - 20s - loss: 0.2139 - val_loss: 0.2248\n",
      "Epoch 8/8\n",
      "\n",
      "Epoch 00008: LearningRateScheduler setting learning rate to 1e-06.\n",
      "718/718 - 20s - loss: 0.2124 - val_loss: 0.2248\n",
      "Inferring validation data...\n",
      "180/180 - 2s\n",
      "\n",
      "Fold 2 CV= 0.7817020698764019\n",
      "\n",
      "#########################\n",
      "### Fold 3 with valid files [5, 6]\n",
      "### Training data shapes (367131, 13, 188) (367131,)\n",
      "### Validation data shapes (91782, 13, 188) (91782,)\n",
      "#########################\n",
      "Epoch 1/8\n",
      "\n",
      "Epoch 00001: LearningRateScheduler setting learning rate to 0.001.\n",
      "718/718 - 25s - loss: 0.2397 - val_loss: 0.2443\n",
      "Epoch 2/8\n",
      "\n",
      "Epoch 00002: LearningRateScheduler setting learning rate to 0.0009505339495172585.\n",
      "718/718 - 21s - loss: 0.2309 - val_loss: 0.2303\n",
      "Epoch 3/8\n",
      "\n",
      "Epoch 00003: LearningRateScheduler setting learning rate to 0.0008119331560284375.\n",
      "718/718 - 20s - loss: 0.2279 - val_loss: 0.2283\n",
      "Epoch 4/8\n",
      "\n",
      "Epoch 00004: LearningRateScheduler setting learning rate to 0.0006116492065111791.\n",
      "718/718 - 20s - loss: 0.2244 - val_loss: 0.2252\n",
      "Epoch 5/8\n",
      "\n",
      "Epoch 00005: LearningRateScheduler setting learning rate to 0.00038935079348882104.\n",
      "718/718 - 20s - loss: 0.2209 - val_loss: 0.2265\n",
      "Epoch 6/8\n",
      "\n",
      "Epoch 00006: LearningRateScheduler setting learning rate to 0.00018906684397156263.\n",
      "718/718 - 20s - loss: 0.2172 - val_loss: 0.2233\n",
      "Epoch 7/8\n",
      "\n",
      "Epoch 00007: LearningRateScheduler setting learning rate to 5.046605048274169e-05.\n",
      "718/718 - 20s - loss: 0.2141 - val_loss: 0.2229\n",
      "Epoch 8/8\n",
      "\n",
      "Epoch 00008: LearningRateScheduler setting learning rate to 1e-06.\n",
      "718/718 - 20s - loss: 0.2126 - val_loss: 0.2229\n",
      "Inferring validation data...\n",
      "180/180 - 2s\n",
      "\n",
      "Fold 3 CV= 0.785856394987037\n",
      "\n",
      "#########################\n",
      "### Fold 4 with valid files [7, 8]\n",
      "### Training data shapes (367131, 13, 188) (367131,)\n",
      "### Validation data shapes (91782, 13, 188) (91782,)\n",
      "#########################\n",
      "Epoch 1/8\n",
      "\n",
      "Epoch 00001: LearningRateScheduler setting learning rate to 0.001.\n",
      "718/718 - 26s - loss: 0.2415 - val_loss: 0.2381\n",
      "Epoch 2/8\n",
      "\n",
      "Epoch 00002: LearningRateScheduler setting learning rate to 0.0009505339495172585.\n",
      "718/718 - 20s - loss: 0.2312 - val_loss: 0.2282\n",
      "Epoch 3/8\n",
      "\n",
      "Epoch 00003: LearningRateScheduler setting learning rate to 0.0008119331560284375.\n",
      "718/718 - 20s - loss: 0.2279 - val_loss: 0.2255\n",
      "Epoch 4/8\n",
      "\n",
      "Epoch 00004: LearningRateScheduler setting learning rate to 0.0006116492065111791.\n",
      "718/718 - 20s - loss: 0.2248 - val_loss: 0.2234\n",
      "Epoch 5/8\n",
      "\n",
      "Epoch 00005: LearningRateScheduler setting learning rate to 0.00038935079348882104.\n",
      "718/718 - 20s - loss: 0.2211 - val_loss: 0.2245\n",
      "Epoch 6/8\n",
      "\n",
      "Epoch 00006: LearningRateScheduler setting learning rate to 0.00018906684397156263.\n",
      "718/718 - 21s - loss: 0.2178 - val_loss: 0.2215\n",
      "Epoch 7/8\n",
      "\n",
      "Epoch 00007: LearningRateScheduler setting learning rate to 5.046605048274169e-05.\n",
      "718/718 - 20s - loss: 0.2146 - val_loss: 0.2201\n",
      "Epoch 8/8\n",
      "\n",
      "Epoch 00008: LearningRateScheduler setting learning rate to 1e-06.\n",
      "718/718 - 20s - loss: 0.2133 - val_loss: 0.2201\n",
      "Inferring validation data...\n",
      "180/180 - 2s\n",
      "\n",
      "Fold 4 CV= 0.7882237098851645\n",
      "\n",
      "#########################\n",
      "### Fold 5 with valid files [9, 10]\n",
      "### Training data shapes (367128, 13, 188) (367128,)\n",
      "### Validation data shapes (91785, 13, 188) (91785,)\n",
      "#########################\n",
      "Epoch 1/8\n",
      "\n",
      "Epoch 00001: LearningRateScheduler setting learning rate to 0.001.\n",
      "718/718 - 25s - loss: 0.2418 - val_loss: 0.2301\n",
      "Epoch 2/8\n",
      "\n",
      "Epoch 00002: LearningRateScheduler setting learning rate to 0.0009505339495172585.\n",
      "718/718 - 20s - loss: 0.2311 - val_loss: 0.2291\n",
      "Epoch 3/8\n",
      "\n",
      "Epoch 00003: LearningRateScheduler setting learning rate to 0.0008119331560284375.\n",
      "718/718 - 20s - loss: 0.2283 - val_loss: 0.2250\n",
      "Epoch 4/8\n",
      "\n",
      "Epoch 00004: LearningRateScheduler setting learning rate to 0.0006116492065111791.\n",
      "718/718 - 20s - loss: 0.2253 - val_loss: 0.2292\n",
      "Epoch 5/8\n",
      "\n",
      "Epoch 00005: LearningRateScheduler setting learning rate to 0.00038935079348882104.\n",
      "718/718 - 20s - loss: 0.2216 - val_loss: 0.2294\n",
      "Epoch 6/8\n",
      "\n",
      "Epoch 00006: LearningRateScheduler setting learning rate to 0.00018906684397156263.\n",
      "718/718 - 21s - loss: 0.2182 - val_loss: 0.2236\n",
      "Epoch 7/8\n",
      "\n",
      "Epoch 00007: LearningRateScheduler setting learning rate to 5.046605048274169e-05.\n",
      "718/718 - 20s - loss: 0.2149 - val_loss: 0.2213\n",
      "Epoch 8/8\n",
      "\n",
      "Epoch 00008: LearningRateScheduler setting learning rate to 1e-06.\n",
      "718/718 - 20s - loss: 0.2137 - val_loss: 0.2210\n",
      "Inferring validation data...\n",
      "180/180 - 2s\n",
      "\n",
      "Fold 5 CV= 0.7898322508214364\n",
      "\n",
      "#########################\n",
      "Overall CV = 0.7865925384330033\n"
     ]
    }
   ],
   "source": [
    "if TRAIN_MODEL:\n",
    "    # SAVE TRUE AND OOF\n",
    "    true = np.array([])\n",
    "    oof = np.array([])\n",
    "    VERBOSE = 2 # use 1 for interactive \n",
    "\n",
    "    for fold in range(5):\n",
    "\n",
    "        # INDICES OF TRAIN AND VALID FOLDS\n",
    "        valid_idx = [2*fold+1, 2*fold+2]\n",
    "        train_idx = [x for x in [1,2,3,4,5,6,7,8,9,10] if x not in valid_idx]\n",
    "\n",
    "        print('#'*25)\n",
    "        print(f'### Fold {fold+1} with valid files', valid_idx)\n",
    "\n",
    "        # READ TRAIN DATA FROM DISK\n",
    "        X_train = []; y_train = []\n",
    "        for k in train_idx:\n",
    "            X_train.append( np.load(f'{PATH_TO_DATA}data_{k}.npy'))\n",
    "            y_train.append( pd.read_parquet(f'{PATH_TO_DATA}targets_{k}.pqt') )\n",
    "        X_train = np.concatenate(X_train,axis=0)\n",
    "        y_train = pd.concat(y_train).target.values\n",
    "        print('### Training data shapes', X_train.shape, y_train.shape)\n",
    "\n",
    "        # READ VALID DATA FROM DISK\n",
    "        X_valid = []; y_valid = []\n",
    "        for k in valid_idx:\n",
    "            X_valid.append( np.load(f'{PATH_TO_DATA}data_{k}.npy'))\n",
    "            y_valid.append( pd.read_parquet(f'{PATH_TO_DATA}targets_{k}.pqt') )\n",
    "        X_valid = np.concatenate(X_valid,axis=0)\n",
    "        y_valid = pd.concat(y_valid).target.values\n",
    "        print('### Validation data shapes', X_valid.shape, y_valid.shape)\n",
    "        print('#'*25)\n",
    "\n",
    "        # BUILD AND TRAIN MODEL\n",
    "        K.clear_session()\n",
    "        model = build_model()\n",
    "        h = model.fit(X_train,y_train, \n",
    "                      validation_data = (X_valid,y_valid),\n",
    "                      batch_size=512, epochs=EPOCHS, verbose=VERBOSE,\n",
    "                      callbacks = [LR])\n",
    "        if not os.path.exists(PATH_TO_MODEL): os.makedirs(PATH_TO_MODEL)\n",
    "        model.save_weights(f'{PATH_TO_MODEL}transformer_fold_{fold+1}.h5')\n",
    "\n",
    "        # INFER VALID DATA\n",
    "        print('Inferring validation data...')\n",
    "        p = model.predict(X_valid, batch_size=512, verbose=VERBOSE).flatten()\n",
    "\n",
    "        print()\n",
    "        print(f'Fold {fold+1} CV=', amex_metric_mod(y_valid, p) )\n",
    "        print()\n",
    "        true = np.concatenate([true, y_valid])\n",
    "        oof = np.concatenate([oof, p])\n",
    "        \n",
    "        # CLEAN MEMORY\n",
    "        del model, X_train, y_train, X_valid, y_valid, p\n",
    "        gc.collect()\n",
    "\n",
    "    # PRINT OVERALL RESULTS\n",
    "    print('#'*25)\n",
    "    print(f'Overall CV =', amex_metric_mod(true, oof) )"
   ]
  },
  {
   "cell_type": "markdown",
   "id": "f0808aef",
   "metadata": {
    "papermill": {
     "duration": 0.02342,
     "end_time": "2022-05-31T20:02:54.219668",
     "exception": false,
     "start_time": "2022-05-31T20:02:54.196248",
     "status": "completed"
    },
    "tags": []
   },
   "source": [
    "# Infer Test Data"
   ]
  },
  {
   "cell_type": "code",
   "execution_count": 8,
   "id": "ebf89a65",
   "metadata": {
    "execution": {
     "iopub.execute_input": "2022-05-31T20:02:54.269838Z",
     "iopub.status.busy": "2022-05-31T20:02:54.269190Z",
     "iopub.status.idle": "2022-05-31T20:07:36.606549Z",
     "shell.execute_reply": "2022-05-31T20:07:36.604816Z"
    },
    "papermill": {
     "duration": 282.364947,
     "end_time": "2022-05-31T20:07:36.609133",
     "exception": false,
     "start_time": "2022-05-31T20:02:54.244186",
     "status": "completed"
    },
    "scrolled": true,
    "tags": []
   },
   "outputs": [
    {
     "name": "stdout",
     "output_type": "stream",
     "text": [
      "Inferring Test_File_1\n",
      "Inferring Test_File_2\n",
      "Inferring Test_File_3\n",
      "Inferring Test_File_4\n",
      "Inferring Test_File_5\n",
      "Inferring Test_File_6\n",
      "Inferring Test_File_7\n",
      "Inferring Test_File_8\n",
      "Inferring Test_File_9\n",
      "Inferring Test_File_10\n",
      "Inferring Test_File_11\n",
      "Inferring Test_File_12\n",
      "Inferring Test_File_13\n",
      "Inferring Test_File_14\n",
      "Inferring Test_File_15\n",
      "Inferring Test_File_16\n",
      "Inferring Test_File_17\n",
      "Inferring Test_File_18\n",
      "Inferring Test_File_19\n",
      "Inferring Test_File_20\n"
     ]
    }
   ],
   "source": [
    "if INFER_TEST:\n",
    "    # BUILD MODEL\n",
    "    K.clear_session()\n",
    "    model = build_model()\n",
    "    \n",
    "    # LOAD SAMPLE SUBMISSION\n",
    "    start = 0; end = 0\n",
    "    sub = cudf.read_csv('../input/amex-default-prediction/sample_submission.csv')\n",
    "    \n",
    "    # REARANGE SUB ROWS TO MATCH 20 TEST FILES\n",
    "    sub['hash'] = sub['customer_ID'].str[-16:].str.hex_to_int().astype('int64')\n",
    "    test_hash_index = cupy.load(f'{PATH_TO_DATA}test_hashes_data.npy')\n",
    "    sub = sub.set_index('hash').loc[test_hash_index].reset_index(drop=True)\n",
    "    \n",
    "    for k in range(20):\n",
    "        print(f'Inferring Test_File_{k+1}')\n",
    "        X_test = np.load(f'{PATH_TO_DATA}test_data_{k+1}.npy')\n",
    "        end = start + X_test.shape[0]\n",
    "\n",
    "        # INFER 5 FOLD MODELS\n",
    "        model.load_weights(f'{PATH_TO_MODEL}transformer_fold_1.h5')\n",
    "        p = model.predict(X_test, batch_size=512, verbose=0).flatten() \n",
    "        for j in range(1,5):\n",
    "            model.load_weights(f'{PATH_TO_MODEL}transformer_fold_{j+1}.h5')\n",
    "            p += model.predict(X_test, batch_size=512, verbose=0).flatten()\n",
    "        p /= 5.0\n",
    "\n",
    "        sub.loc[start:end-1,'prediction'] = p\n",
    "        start = end"
   ]
  },
  {
   "cell_type": "markdown",
   "id": "3d9f883c",
   "metadata": {
    "papermill": {
     "duration": 0.012377,
     "end_time": "2022-05-31T20:07:36.635074",
     "exception": false,
     "start_time": "2022-05-31T20:07:36.622697",
     "status": "completed"
    },
    "tags": []
   },
   "source": [
    "# Create Submission"
   ]
  },
  {
   "cell_type": "code",
   "execution_count": 9,
   "id": "c4d2615f",
   "metadata": {
    "execution": {
     "iopub.execute_input": "2022-05-31T20:07:36.665044Z",
     "iopub.status.busy": "2022-05-31T20:07:36.663622Z",
     "iopub.status.idle": "2022-05-31T20:07:37.063327Z",
     "shell.execute_reply": "2022-05-31T20:07:37.062136Z"
    },
    "papermill": {
     "duration": 0.416308,
     "end_time": "2022-05-31T20:07:37.065389",
     "exception": false,
     "start_time": "2022-05-31T20:07:36.649081",
     "status": "completed"
    },
    "tags": []
   },
   "outputs": [
    {
     "name": "stdout",
     "output_type": "stream",
     "text": [
      "Submission file shape is (924621, 2)\n"
     ]
    },
    {
     "data": {
      "text/html": [
       "<div>\n",
       "<style scoped>\n",
       "    .dataframe tbody tr th:only-of-type {\n",
       "        vertical-align: middle;\n",
       "    }\n",
       "\n",
       "    .dataframe tbody tr th {\n",
       "        vertical-align: top;\n",
       "    }\n",
       "\n",
       "    .dataframe thead th {\n",
       "        text-align: right;\n",
       "    }\n",
       "</style>\n",
       "<table border=\"1\" class=\"dataframe\">\n",
       "  <thead>\n",
       "    <tr style=\"text-align: right;\">\n",
       "      <th></th>\n",
       "      <th>customer_ID</th>\n",
       "      <th>prediction</th>\n",
       "    </tr>\n",
       "  </thead>\n",
       "  <tbody>\n",
       "    <tr>\n",
       "      <th>0</th>\n",
       "      <td>038be0571bd6b3776cb8512731968f4de302c811030124...</td>\n",
       "      <td>0.002090</td>\n",
       "    </tr>\n",
       "    <tr>\n",
       "      <th>1</th>\n",
       "      <td>0074a0233ef766b52884608cc8cf9098f59d885b5d59fc...</td>\n",
       "      <td>0.000204</td>\n",
       "    </tr>\n",
       "    <tr>\n",
       "      <th>2</th>\n",
       "      <td>060b8b7f30f795a0e93995d45b29461ffa6ece0eeb5c3d...</td>\n",
       "      <td>0.105635</td>\n",
       "    </tr>\n",
       "    <tr>\n",
       "      <th>3</th>\n",
       "      <td>03a1d125bdd776000bf0b28238d0bea240ad581d332e70...</td>\n",
       "      <td>0.077761</td>\n",
       "    </tr>\n",
       "    <tr>\n",
       "      <th>4</th>\n",
       "      <td>0290f245dd35ba899af52316ccc62b2627e7ae18cd76a2...</td>\n",
       "      <td>0.343125</td>\n",
       "    </tr>\n",
       "  </tbody>\n",
       "</table>\n",
       "</div>"
      ],
      "text/plain": [
       "                                         customer_ID  prediction\n",
       "0  038be0571bd6b3776cb8512731968f4de302c811030124...    0.002090\n",
       "1  0074a0233ef766b52884608cc8cf9098f59d885b5d59fc...    0.000204\n",
       "2  060b8b7f30f795a0e93995d45b29461ffa6ece0eeb5c3d...    0.105635\n",
       "3  03a1d125bdd776000bf0b28238d0bea240ad581d332e70...    0.077761\n",
       "4  0290f245dd35ba899af52316ccc62b2627e7ae18cd76a2...    0.343125"
      ]
     },
     "metadata": {},
     "output_type": "display_data"
    }
   ],
   "source": [
    "if INFER_TEST:\n",
    "    sub.to_csv(f'submission.csv',index=False)\n",
    "    print('Submission file shape is', sub.shape )\n",
    "    display( sub.head() )"
   ]
  },
  {
   "cell_type": "code",
   "execution_count": 10,
   "id": "414d504d",
   "metadata": {
    "execution": {
     "iopub.execute_input": "2022-05-31T20:07:37.094468Z",
     "iopub.status.busy": "2022-05-31T20:07:37.093556Z",
     "iopub.status.idle": "2022-05-31T20:07:37.925822Z",
     "shell.execute_reply": "2022-05-31T20:07:37.925026Z"
    },
    "papermill": {
     "duration": 0.848908,
     "end_time": "2022-05-31T20:07:37.927841",
     "exception": false,
     "start_time": "2022-05-31T20:07:37.078933",
     "status": "completed"
    },
    "tags": []
   },
   "outputs": [
    {
     "data": {
      "image/png": "[encoded data removed]",
      "text/plain": [
       "<Figure size 432x288 with 1 Axes>"
      ]
     },
     "metadata": {
      "needs_background": "light"
     },
     "output_type": "display_data"
    }
   ],
   "source": [
    "if INFER_TEST:\n",
    "    # DISPLAY SUBMISSION PREDICTIONS\n",
    "    plt.hist(sub.to_pandas().prediction, bins=100)\n",
    "    plt.title('Test Predictions')\n",
    "    plt.show()"
   ]
  }
 ],
 "metadata": {
  "kernelspec": {
   "display_name": "Python 3 (ipykernel)",
   "language": "python",
   "name": "python3"
  },
  "language_info": {
   "codemirror_mode": {
    "name": "ipython",
    "version": 3
   },
   "file_extension": ".py",
   "mimetype": "text/x-python",
   "name": "python",
   "nbconvert_exporter": "python",
   "pygments_lexer": "ipython3",
   "version": "3.8.16"
  },
  "papermill": {
   "default_parameters": {},
   "duration": 1483.411991,
   "end_time": "2022-05-31T20:07:41.396164",
   "environment_variables": {},
   "exception": null,
   "input_path": "__notebook__.ipynb",
   "output_path": "__notebook__.ipynb",
   "parameters": {},
   "start_time": "2022-05-31T19:42:57.984173",
   "version": "2.3.4"
  }
 },
 "nbformat": 4,
 "nbformat_minor": 5
}
